{
 "cells": [
  {
   "cell_type": "markdown",
   "id": "f7f5a1d1",
   "metadata": {},
   "source": [
    "## Preprocessing with contour points for DBscAn"
   ]
  },
  {
   "cell_type": "code",
   "execution_count": 1,
   "id": "b6eb7600",
   "metadata": {},
   "outputs": [
    {
     "data": {
      "image/png": "[encoded data removed]",
      "text/plain": [
       "<Figure size 576x576 with 1 Axes>"
      ]
     },
     "metadata": {
      "needs_background": "light"
     },
     "output_type": "display_data"
    }
   ],
   "source": [
    "import cv2\n",
    "import numpy as np\n",
    "import matplotlib.pyplot as plt\n",
    "from sklearn.decomposition import PCA\n",
    "\n",
    "# Function to crop images to focus on the center\n",
    "def crop_center(image, crop_size):\n",
    "    height, width = image.shape[:2]\n",
    "    start_h = height // 2 - crop_size // 2\n",
    "    start_w = width // 2 - crop_size // 2\n",
    "    return image[start_h:start_h+crop_size, start_w:start_w+crop_size]\n",
    "\n",
    "# Function to preprocess image\n",
    "def preprocess_image(img, crop_size=230, threshold_level=20):\n",
    "    # Crop the image to focus on the center\n",
    "    img = crop_center(img, crop_size)\n",
    "    \n",
    "    # Convert image to grayscale\n",
    "    gray = cv2.cvtColor(img, cv2.COLOR_BGR2GRAY)\n",
    "    \n",
    "    # Apply threshold to create a binary image (dark pixels become white)\n",
    "    _, thresh = cv2.threshold(gray, threshold_level, 250, cv2.THRESH_BINARY)\n",
    "    \n",
    "    return thresh\n",
    "\n",
    "# Load the image\n",
    "image_path = '97537.jpg'  \n",
    "img = cv2.imread(image_path)\n",
    "\n",
    "# Preprocess the image\n",
    "binary_image = preprocess_image(img)\n",
    "\n",
    "# Convert the binary image to a contour image\n",
    "contour_image = cv2.cvtColor(binary_image, cv2.COLOR_GRAY2BGR)\n",
    "\n",
    "# Find contours\n",
    "contours, _ = cv2.findContours(binary_image, cv2.RETR_EXTERNAL, cv2.CHAIN_APPROX_SIMPLE)\n",
    "\n",
    "# Flatten contour points\n",
    "contour_points = np.vstack(contours).squeeze()\n",
    "\n",
    "# Apply PCA to contour points\n",
    "pca = PCA(n_components=2)\n",
    "pca_result = pca.fit_transform(contour_points)\n",
    "\n",
    "# Plot PCA-transformed contour points\n",
    "plt.figure(figsize=(8, 8))\n",
    "plt.scatter(pca_result[:, 0], pca_result[:, 1], s=1, c='blue')\n",
    "plt.title('PCA-transformed Contour Points')\n",
    "plt.xlabel('Principal Component 1')\n",
    "plt.ylabel('Principal Component 2')\n",
    "plt.grid(True)\n",
    "plt.show()\n"
   ]
  },
  {
   "cell_type": "markdown",
   "id": "ce0a78bd",
   "metadata": {},
   "source": [
    "## Multi-input , single output"
   ]
  },
  {
   "cell_type": "code",
   "execution_count": null,
   "id": "12b6a820",
   "metadata": {},
   "outputs": [],
   "source": [
    "import pandas as pd\n",
    "import numpy as np\n",
    "from tensorflow.keras.layers import Input, Dense, Concatenate\n",
    "from tensorflow.keras.models import Model\n",
    "from tensorflow.keras.optimizers import Adam\n",
    "from sklearn.model_selection import train_test_split\n",
    "from sklearn.preprocessing import LabelEncoder, MinMaxScaler\n",
    "\n",
    "# Load data from CSV\n",
    "data = pd.read_csv(\"New_dataset_with_mean_rgb_updated.csv\")\n",
    "\n",
    "# Preprocess data\n",
    "# Separate features and target\n",
    "X_shape_label = data['shape_cluster_label']\n",
    "X_mean_rgb = data['mean_rgb']\n",
    "y_prediction = data['mapped_age']  # Output prediction\n",
    "\n",
    "# Encode shape label using LabelEncoder\n",
    "shape_encoder = LabelEncoder()\n",
    "X_shape_label_encoded = shape_encoder.fit_transform(X_shape_label)\n",
    "\n",
    "# Normalize mean RGB values\n",
    "mean_rgb_scaler = MinMaxScaler()\n",
    "X_mean_rgb_normalized = mean_rgb_scaler.fit_transform(X_mean_rgb.values.reshape(-1, 1))\n",
    "\n",
    "# Split data into training and validation sets\n",
    "X_shape_train, X_shape_val, \\\n",
    "X_mean_rgb_train, X_mean_rgb_val, \\\n",
    "y_train, y_val = train_test_split(X_shape_label_encoded, X_mean_rgb_normalized, y_prediction, test_size=0.2, random_state=42)\n",
    "\n",
    "# Define input layers\n",
    "shape_input = Input(shape=(1,), name='shape_input')\n",
    "mean_rgb_input = Input(shape=(1,), name='mean_rgb_input')\n",
    "\n",
    "# Concatenate inputs\n",
    "concatenated = Concatenate()([shape_input, mean_rgb_input])\n",
    "\n",
    "# Fully connected layers\n",
    "dense1 = Dense(64, activation='relu')(concatenated)\n",
    "dense2 = Dense(32, activation='relu')(dense1)\n",
    "output = Dense(1, activation='linear', name='output')(dense2)  # Output layer\n",
    "\n",
    "# Define the model\n",
    "model = Model(inputs=[shape_input, mean_rgb_input], outputs=output)\n",
    "\n",
    "# Compile the model\n",
    "model.compile(optimizer=Adam(learning_rate=0.001), loss='mse', metrics=['mae'])\n",
    "\n",
    "# Print model summary\n",
    "model.summary()\n",
    "\n",
    "# Train the model\n",
    "history = model.fit(\n",
    "    [X_shape_train, X_mean_rgb_train],\n",
    "    y_train,\n",
    "    validation_data=([X_shape_val, X_mean_rgb_val], y_val),\n",
    "    epochs=10,\n",
    "    batch_size=32\n",
    ")\n"
   ]
  },
  {
   "cell_type": "code",
   "execution_count": null,
   "id": "9cbd6b8e",
   "metadata": {},
   "outputs": [],
   "source": []
  }
 ],
 "metadata": {
  "kernelspec": {
   "display_name": "Python 3 (ipykernel)",
   "language": "python",
   "name": "python3"
  },
  "language_info": {
   "codemirror_mode": {
    "name": "ipython",
    "version": 3
   },
   "file_extension": ".py",
   "mimetype": "text/x-python",
   "name": "python",
   "nbconvert_exporter": "python",
   "pygments_lexer": "ipython3",
   "version": "3.9.12"
  }
 },
 "nbformat": 4,
 "nbformat_minor": 5
}
